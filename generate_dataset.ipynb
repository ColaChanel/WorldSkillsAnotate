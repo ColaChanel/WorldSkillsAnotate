{
 "cells": [
  {
   "attachments": {},
   "cell_type": "markdown",
   "metadata": {},
   "source": [
    "# Convert voc to yolo "
   ]
  },
  {
   "cell_type": "code",
   "execution_count": 1,
   "metadata": {},
   "outputs": [
    {
     "name": "stdout",
     "output_type": "stream",
     "text": [
      "437\n",
      "Finished processing: China\n",
      "282\n",
      "Finished processing: Czech\n",
      "770\n",
      "Finished processing: India\n",
      "1050\n",
      "Finished processing: Japan\n",
      "816\n",
      "Finished processing: Norway\n",
      "480\n",
      "Finished processing: United_States\n"
     ]
    }
   ],
   "source": [
    "import os\n",
    "import shutil\n",
    "import random\n",
    "import glob\n",
    "from pathlib import Path\n",
    "import xml.etree.ElementTree as ET\n",
    "from os import listdir, getcwd\n",
    "dirs = ['China', 'Czech', 'India', 'Japan', 'Norway', 'United_States']\n",
    "classes = ['D00', 'D10', 'D20', 'D40', 'Block crack', 'Repair']\n",
    "cwd = getcwd()\n",
    "\n",
    "def getImagesInDir(dir_path):\n",
    "    directory = glob.glob(dir_path +'/train/images'+ '**/*.jpg')\n",
    "    long = len(directory)\n",
    "    print(int(long*0.1))\n",
    "    aded_images = []\n",
    "    for i in range(int(long*0.1)):\n",
    "        random_file=random.choice(directory)\n",
    "        aded_images.append(random_file.replace(os.sep, '/'))\n",
    "    return aded_images\n",
    "for dir_path in dirs:\n",
    "    cwd = cwd.replace(os.sep, '/')\n",
    "    full_dir_path = cwd + '/all_countries/' + dir_path\n",
    "    output_path = cwd +'/new/'+dir_path+'/images/'\n",
    "    saveDir = cwd +'/new/'+dir_path+'/annatations/'\n",
    "    if not os.path.exists(output_path):\n",
    "        os.makedirs(output_path)\n",
    "\n",
    "    if not os.path.exists(saveDir):\n",
    "        os.makedirs(saveDir)\n",
    "\n",
    "    image_paths = getImagesInDir(full_dir_path)\n",
    "    for image_path in image_paths:\n",
    "        shutil.copy(image_path, output_path)\n",
    "    for image_path in image_paths:\n",
    "        path_in_str = str(image_path)\n",
    "        path2list = Path(cwd + '/all_countries/' + dir_path+'/yolo').glob('**/*.txt')\n",
    "        for path2 in path2list:\n",
    "            path2_in_str = str(path2)\n",
    "            path2_in_str = path2_in_str.replace(os.sep, '/')\n",
    "            if path_in_str.split('/')[-1].split('.')[0] == path2_in_str.split('/')[-1].split('.')[0]:\n",
    "                shutil.copy2(path2, saveDir)\n",
    "                break\n",
    "\n",
    "    print(\"Finished processing: \" + dir_path)"
   ]
  }
 ],
 "metadata": {
  "kernelspec": {
   "display_name": ".venv",
   "language": "python",
   "name": "python3"
  },
  "language_info": {
   "codemirror_mode": {
    "name": "ipython",
    "version": 3
   },
   "file_extension": ".py",
   "mimetype": "text/x-python",
   "name": "python",
   "nbconvert_exporter": "python",
   "pygments_lexer": "ipython3",
   "version": "3.10.9"
  },
  "orig_nbformat": 4
 },
 "nbformat": 4,
 "nbformat_minor": 2
}
